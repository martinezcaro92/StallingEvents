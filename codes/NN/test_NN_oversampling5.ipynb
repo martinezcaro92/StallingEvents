{
 "cells": [
  {
   "cell_type": "code",
   "execution_count": 1,
   "metadata": {
    "pycharm": {
     "is_executing": false,
     "name": "#%% IMPORT SECTION\n"
    }
   },
   "outputs": [
    {
     "name": "stderr",
     "output_type": "stream",
     "text": [
      "Using TensorFlow backend.\n"
     ]
    }
   ],
   "source": [
    "import numpy as np\n",
    "import pandas as pd\n",
    "import matplotlib.pyplot as plt\n",
    "import seaborn as sns\n",
    "import sklearn.metrics as metrics\n",
    "import os\n",
    "import tempfile \n",
    "\n",
    "\n",
    "from sklearn import preprocessing\n",
    "from sklearn.utils.class_weight import compute_class_weight\n",
    "from sklearn.metrics import roc_auc_score, classification_report\n",
    "from collections import Counter\n",
    "\n",
    "from imblearn.over_sampling import SMOTE\n",
    "\n",
    "import tensorflow as tf\n",
    "import keras\n",
    "\n",
    "\n",
    "import warnings\n",
    "warnings.filterwarnings(\"ignore\")\n",
    "colors = np.array(['#0101DF','#DF0101','#01DF01','#DFDFDF'])\n",
    "\n",
    "rs = 42\n",
    "def compute_metrics (y_te2,y_p,string):\n",
    "    print('\\n %s'%string)\n",
    "    print('CONFUSION MATRIX')\n",
    "    print(metrics.confusion_matrix(y_te2,y_p))\n",
    "    print(classification_report(y_te2, y_p))\n",
    "    print('\\nROC CURVE: %2.2f'%roc_auc_score(y_te2,y_p))\n",
    "\n",
    "def Ratio10(y,string):\n",
    "    suma = Counter(y)[0]+Counter(y)[1]\n",
    "    print('\\n'+string)  \n",
    "    print(Counter(y))\n",
    "    print('0: %3.2f%%\\n1: %3.2f%%' % (100*Counter(y)[0]/suma,100*Counter(y)[1]/suma))\n",
    "\n",
    "def histo(data,var):\n",
    "    fig=plt.figure()\n",
    "    sns.countplot(var,data=data,palette=colors)\n",
    "    plt.title('0/1 Distribution (0: No Stalling || 1: Stalling Event',fontsize=14)\n",
    "    plt.show()\n",
    "    \n",
    "def plot_loss(history, label, n):\n",
    "    # Use a log scale to show the wide range of values.\n",
    "    plt.semilogy(history.epoch,  \n",
    "                 history.history['loss'],\n",
    "                 color=colors[n], \n",
    "                 label='Train '+label\n",
    "                 )\n",
    "    plt.semilogy(history.epoch,\n",
    "                 history.history['val_loss'],\n",
    "                 color=colors[n], \n",
    "                 label='Val '+label,\n",
    "                 linestyle=\"--\")\n",
    "    plt.xlabel('Epoch')\n",
    "    plt.ylabel('Loss')\n",
    "    plt.legend()\n",
    "\n",
    "def plot_metrics(history):\n",
    "    metrics =  ['loss', 'auc', 'precision', 'recall']\n",
    "    for n, metric in enumerate(metrics):\n",
    "        name = metric.replace(\"_\",\" \").capitalize()\n",
    "        plt.subplot(2,2,n+1)\n",
    "        plt.plot(history.epoch,  history.history[metric], color=colors[0], label='Train')\n",
    "        plt.plot(history.epoch, history.history['val_'+metric],\n",
    "             color=colors[0], linestyle=\"--\", label='Val')\n",
    "        plt.xlabel('Epoch')\n",
    "        plt.ylabel(name)\n",
    "        if metric == 'loss':\n",
    "            plt.ylim([0, plt.ylim()[1]])\n",
    "        elif metric == 'auc':\n",
    "            plt.ylim([0.5,1])\n",
    "        else:\n",
    "            plt.ylim([0,1])\n",
    "\n",
    "    plt.legend()\n",
    "\n",
    "def plot_cm(labels, predictions, p=0.5):\n",
    "  cm = metrics.confusion_matrix(labels, predictions > p)\n",
    "  plt.figure(figsize=(5,5))\n",
    "  sns.heatmap(cm, annot=True, fmt=\"d\")\n",
    "  plt.title('Confusion matrix @{:.2f}'.format(p))\n",
    "  plt.ylabel('Actual label')\n",
    "  plt.xlabel('Predicted label')\n",
    "\n",
    "  print('Legitimate Transactions Detected (True Negatives): ', cm[0][0])\n",
    "  print('Legitimate Transactions Incorrectly Detected (False Positives): ', cm[0][1])\n",
    "  print('Fraudulent Transactions Missed (False Negatives): ', cm[1][0])\n",
    "  print('Fraudulent Transactions Detected (True Positives): ', cm[1][1])\n",
    "  print('Total Fraudulent Transactions: ', np.sum(cm[1]))\n",
    "  \n",
    "\n",
    "def plot_roc(name, labels, predictions, **kwargs):\n",
    "    fp, tp, _ = metrics.roc_curve(labels, predictions)\n",
    "\n",
    "    plt.plot(100*fp, 100*tp, label=name, linewidth=2, **kwargs)\n",
    "    plt.xlabel('False positives [%]')\n",
    "    plt.ylabel('True positives [%]')\n",
    "    plt.xlim([-0.5,100.5])\n",
    "    plt.ylim([-0.5,100.5])\n",
    "    plt.grid(True)\n",
    "    ax = plt.gca()\n",
    "    ax.set_aspect('equal')\n",
    "  "
   ]
  },
  {
   "cell_type": "code",
   "execution_count": 2,
   "metadata": {
    "pycharm": {
     "is_executing": false,
     "name": "#%% LOAD DATASET REMOVING NOISE\n"
    }
   },
   "outputs": [
    {
     "name": "stdout",
     "output_type": "stream",
     "text": [
      "Index(['∆t', 'pkt_len', 'tcp_hea_len', 'tcp_flag_ack', 'tcp_flag_cwr',\n",
      "       'tcp_flag_ecn', 'tcp_flag_urg', 'tcp_flag_psh', 'tcp_flag_rst',\n",
      "       'tcp_flag_syn', 'tcp_flag_fin', 'tcp_win_si2', 'delay', 'capture',\n",
      "       'stalling_event'],\n",
      "      dtype='object')\n",
      "\n",
      "dataset[stalling_event]\n",
      "Counter({0: 1426905, 1: 113031})\n",
      "0: 92.66%\n",
      "1: 7.34%\n"
     ]
    },
    {
     "data": {
      "image/png": "[encoded data removed]",
      "text/plain": [
       "<Figure size 432x288 with 1 Axes>"
      ]
     },
     "metadata": {
      "needs_background": "light"
     },
     "output_type": "display_data"
    }
   ],
   "source": [
    "dataset = pd.read_csv('../../output/df_general.csv', sep=',')\n",
    "split = 0.8\n",
    "del dataset['No.']\n",
    "del dataset['Protocol']\n",
    "del dataset['ip_len']\n",
    "del dataset['prebuffering']\n",
    "del dataset['Time']\n",
    "\n",
    "dataset = dataset.fillna(dataset.mean())\n",
    "neg, pos = np.bincount(dataset['stalling_event'])\n",
    "total = neg + pos\n",
    "weight_for_0 = (1 / neg)*(total)/2.0 \n",
    "weight_for_1 = (1 / pos)*(total)/2.0\n",
    "\n",
    "class_weight = {0: weight_for_0, 1: weight_for_1}\n",
    "\n",
    "print(dataset.columns)\n",
    "Ratio10(dataset['stalling_event'],'dataset[stalling_event]')\n",
    "histo(dataset,'stalling_event')"
   ]
  },
  {
   "cell_type": "code",
   "execution_count": 3,
   "metadata": {
    "collapsed": false,
    "pycharm": {
     "is_executing": false,
     "name": "#%% SPLIT TRAIN/TEST\n"
    }
   },
   "outputs": [],
   "source": [
    "from random import randint\n",
    "'''X_train = [None] * (len(dataset.columns)-1)\n",
    "X_test = [None] * (len(dataset.columns)-1)'''\n",
    "\n",
    "X_train = np.array([None]*12)\n",
    "X_test = np.array([None]*12)\n",
    "y_train = list()\n",
    "y_test = list()\n",
    "\n",
    "grouped = dataset.groupby(['delay','capture']) \n",
    "#print(grouped.mean())\n",
    "\n",
    "for id, data in grouped:\n",
    "    spl = int(data.shape[0] * split)\n",
    "    restspl = int(data.shape[0] * (1-split))\n",
    "    randnum = randint(0,restspl)\n",
    "    \n",
    "    X_train = np.vstack((X_train,data.values[randnum:randnum+spl,:-3]))\n",
    "    X_test = np.vstack((X_test,data.values[0:randnum-1,:-3]))\n",
    "    X_test = np.vstack((X_test,data.values[randnum+spl:,:-3]))\n",
    "    \n",
    "    y_train.extend(data.values[randnum:randnum+spl,-1])\n",
    "    y_test.extend(data.values[0:randnum-1,-1])\n",
    "    y_test.extend(data.values[randnum+spl:,-1])\n",
    "\n",
    "X_train = X_train[1:]\n",
    "X_test = X_test[1:]"
   ]
  },
  {
   "cell_type": "code",
   "execution_count": 4,
   "metadata": {
    "collapsed": false,
    "pycharm": {
     "is_executing": false,
     "name": "#%%\n"
    }
   },
   "outputs": [],
   "source": [
    "mms = preprocessing.MinMaxScaler()\n",
    "X_train = mms.fit_transform(X_train)\n",
    "X_test = mms.transform(X_test)"
   ]
  },
  {
   "cell_type": "code",
   "execution_count": 5,
   "metadata": {
    "collapsed": false,
    "pycharm": {
     "is_executing": false,
     "name": "#%%\n"
    }
   },
   "outputs": [
    {
     "name": "stdout",
     "output_type": "stream",
     "text": [
      "\n",
      "y_test\n",
      "Counter({0: 306186, 1: 1766})\n",
      "0: 99.43%\n",
      "1: 0.57%\n",
      "\n",
      "y_train\n",
      "Counter({0: 1120659, 1: 111265})\n",
      "0: 90.97%\n",
      "1: 9.03%\n"
     ]
    }
   ],
   "source": [
    "y_test = list(map(int,y_test))\n",
    "y_train = list(map(int,y_train))\n",
    "Ratio10(y_test,'y_test')\n",
    "Ratio10(y_train,'y_train')\n",
    "\n",
    "X_train = pd.DataFrame(data=X_train,columns=dataset.columns[:-3])\n",
    "X_test= pd.DataFrame(data=X_test,columns=dataset.columns[:-3])\n",
    "y_train = pd.DataFrame(data=y_train,columns=['y_train'])\n",
    "y_test= pd.DataFrame(data=y_test,columns=['y_test'])\n",
    "del dataset['delay']\n",
    "del dataset['capture']"
   ]
  },
  {
   "cell_type": "code",
   "execution_count": 6,
   "metadata": {
    "collapsed": false,
    "pycharm": {
     "is_executing": false,
     "name": "#%%\n"
    }
   },
   "outputs": [],
   "source": [
    "smote = SMOTE(random_state = rs)\n",
    "X_train_smote,y_train_smote = smote.fit_resample(X_train.values,y_train.values)\n",
    "X_test_smote,y_test_smote = smote.fit_resample(X_test.values,y_test.values)"
   ]
  },
  {
   "cell_type": "code",
   "execution_count": 7,
   "metadata": {
    "collapsed": false,
    "pycharm": {
     "is_executing": false,
     "name": "#%%\n"
    }
   },
   "outputs": [
    {
     "name": "stdout",
     "output_type": "stream",
     "text": [
      "1394.0\n"
     ]
    }
   ],
   "source": [
    "EPOCHS = 100\n",
    "BATCH_SIZE = 2048\n",
    "\n",
    "resampled_steps_per_epoch = np.ceil(2.0*neg/BATCH_SIZE)\n",
    "print(resampled_steps_per_epoch)"
   ]
  },
  {
   "cell_type": "code",
   "execution_count": 8,
   "metadata": {
    "collapsed": false,
    "pycharm": {
     "is_executing": false,
     "name": "#%%\n"
    }
   },
   "outputs": [],
   "source": [
    "METRICS = [\n",
    "    tf.keras.metrics.TruePositives(name='tp'),\n",
    "    tf.keras.metrics.FalsePositives(name='fp'),\n",
    "    tf.keras.metrics.TrueNegatives(name='tn'),\n",
    "    tf.keras.metrics.FalseNegatives(name='fn'),\n",
    "    tf.keras.metrics.BinaryAccuracy(name='accuracy'),\n",
    "    tf.keras.metrics.Precision(name='precision'),\n",
    "    tf.keras.metrics.Recall(name='recall'),\n",
    "    tf.keras.metrics.AUC(name='auc'),\n",
    "]\n",
    "\n",
    "\n",
    "early_stopping = tf.keras.callbacks.EarlyStopping(monitor='val_auc', \n",
    "                                                  verbose=1,\n",
    "                                                  patience=10,\n",
    "                                                  mode='max',\n",
    "                                                  restore_best_weights=True)\n",
    "\n"
   ]
  },
  {
   "cell_type": "code",
   "execution_count": 9,
   "metadata": {
    "collapsed": false,
    "pycharm": {
     "is_executing": false,
     "name": "#%%\n"
    }
   },
   "outputs": [
    {
     "name": "stdout",
     "output_type": "stream",
     "text": [
      "[-2.53560092]\n"
     ]
    }
   ],
   "source": [
    "n_features = X_train.shape[1]\n",
    "\n",
    "initial_bias = np.log([pos/neg])\n",
    "print(initial_bias)"
   ]
  },
  {
   "cell_type": "code",
   "execution_count": 10,
   "metadata": {
    "collapsed": false,
    "pycharm": {
     "is_executing": false,
     "name": "#%% Baseline\n"
    }
   },
   "outputs": [
    {
     "name": "stdout",
     "output_type": "stream",
     "text": [
      "Built NN...\n",
      "Model: \"sequential_1\"\n",
      "_________________________________________________________________\n",
      "Layer (type)                 Output Shape              Param #   \n",
      "=================================================================\n",
      "dense_1 (Dense)              (None, 512)               6656      \n",
      "_________________________________________________________________\n",
      "dropout_1 (Dropout)          (None, 512)               0         \n",
      "_________________________________________________________________\n",
      "dense_2 (Dense)              (None, 512)               262656    \n",
      "_________________________________________________________________\n",
      "dropout_2 (Dropout)          (None, 512)               0         \n",
      "_________________________________________________________________\n",
      "dense_3 (Dense)              (None, 512)               262656    \n",
      "_________________________________________________________________\n",
      "dropout_3 (Dropout)          (None, 512)               0         \n",
      "_________________________________________________________________\n",
      "dense_4 (Dense)              (None, 1)                 513       \n",
      "=================================================================\n",
      "Total params: 532,481\n",
      "Trainable params: 532,481\n",
      "Non-trainable params: 0\n",
      "_________________________________________________________________\n",
      "Compiled NN...\n",
      "Train on 985539 samples, validate on 246385 samples\n",
      "Epoch 1/100\n",
      "985539/985539 [==============================] - 75s 76us/step - loss: 0.2578 - tp: 46.0000 - fp: 631.0000 - tn: 459460.8438 - fn: 34450.8242 - accuracy: 0.9264 - precision: 0.0679 - recall: 0.0044 - auc: 0.5194 - val_loss: 0.5097 - val_tp: 46.0000 - val_fp: 631.0000 - val_tn: 1020676.1250 - val_fn: 89102.1094 - val_accuracy: 0.9196 - val_precision: 0.0679 - val_recall: 5.2602e-04 - val_auc: 0.5291\n",
      "Epoch 2/100\n",
      "985539/985539 [==============================] - 74s 75us/step - loss: 0.2530 - tp: 46.6100 - fp: 631.4460 - tn: 1580078.8750 - fn: 145754.8594 - accuracy: 0.9148 - precision: 0.0687 - recall: 3.2511e-04 - auc: 0.5375 - val_loss: 0.5135 - val_tp: 50.0000 - val_fp: 635.0000 - val_tn: 2141332.2500 - val_fn: 200363.0781 - val_accuracy: 0.9143 - val_precision: 0.0730 - val_recall: 2.5042e-04 - val_auc: 0.5348\n",
      "Epoch 3/100\n",
      "985539/985539 [==============================] - 76s 77us/step - loss: 0.2516 - tp: 53.9461 - fp: 640.5975 - tn: 2700772.7500 - fn: 256969.5312 - accuracy: 0.9128 - precision: 0.0775 - recall: 2.0991e-04 - auc: 0.5358 - val_loss: 0.5109 - val_tp: 76.0000 - val_fp: 660.0000 - val_tn: 3261966.2500 - val_fn: 311602.1250 - val_accuracy: 0.9127 - val_precision: 0.1033 - val_recall: 2.4422e-04 - val_auc: 0.5356\n",
      "Epoch 4/100\n",
      "985539/985539 [==============================] - 80s 81us/step - loss: 0.2503 - tp: 91.4191 - fp: 692.6411 - tn: 7183305.0000 - fn: 702043.4375 - accuracy: 0.9109 - precision: 0.1166 - recall: 1.3024e-04 - auc: 0.5497 - val_loss: 0.5056 - val_tp: 93.0000 - val_fp: 696.0000 - val_tn: 7744559.5000 - val_fn: 756644.8125 - val_accuracy: 0.9109 - val_precision: 0.1179 - val_recall: 1.2293e-04 - val_auc: 0.5499\n",
      "Epoch 8/100\n",
      "985539/985539 [==============================] - 75s 76us/step - loss: 0.2502 - tp: 94.2054 - fp: 699.7988 - tn: 8303812.5000 - fn: 813451.0625 - accuracy: 0.9107 - precision: 0.1186 - recall: 1.1583e-04 - auc: 0.5511 - val_loss: 0.5073 - val_tp: 96.0000 - val_fp: 705.0000 - val_tn: 8865217.0000 - val_fn: 867906.9375 - val_accuracy: 0.9108 - val_precision: 0.1199 - val_recall: 1.1062e-04 - val_auc: 0.5511\n",
      "Epoch 9/100\n",
      "985539/985539 [==============================] - 76s 77us/step - loss: 0.2501 - tp: 120.6390 - fp: 736.2905 - tn: 13907280.0000 - fn: 1369535.3750 - accuracy: 0.9103 - precision: 0.1408 - recall: 8.8088e-05 - auc: 0.5535 - val_loss: 0.5077 - val_tp: 125.0000 - val_fp: 738.0000 - val_tn: 14468466.0000 - val_fn: 1424203.1250 - val_accuracy: 0.9103 - val_precision: 0.1448 - val_recall: 8.7767e-05 - val_auc: 0.5533\n",
      "Epoch 14/100\n",
      "985539/985539 [==============================] - 75s 76us/step - loss: 0.2500 - tp: 125.5539 - fp: 738.0768 - tn: 15027819.0000 - fn: 1480917.1250 - accuracy: 0.9102 - precision: 0.1454 - recall: 8.4783e-05 - auc: 0.5536 - val_loss: 0.5018 - val_tp: 127.0000 - val_fp: 739.0000 - val_tn: 15589126.0000 - val_fn: 1535466.7500 - val_accuracy: 0.9103 - val_precision: 0.1467 - val_recall: 8.2710e-05 - val_auc: 0.5538\n",
      "Epoch 15/100\n",
      "985539/985539 [==============================] - 74s 75us/step - loss: 0.2499 - tp: 152.6784 - fp: 768.1058 - tn: 21751768.0000 - fn: 2148385.0000 - accuracy: 0.9101 - precision: 0.1658 - recall: 7.1061e-05 - auc: 0.5563 - val_loss: 0.5016 - val_tp: 154.0000 - val_fp: 770.0000 - val_tn: 22312976.0000 - val_fn: 2203030.0000 - val_accuracy: 0.9101 - val_precision: 0.1667 - val_recall: 6.9901e-05 - val_auc: 0.5564\n",
      "Epoch 21/100\n",
      "985539/985539 [==============================] - 73s 74us/step - loss: 0.2497 - tp: 154.8714 - fp: 772.2137 - tn: 22872390.0000 - fn: 2259665.0000 - accuracy: 0.9101 - precision: 0.1671 - recall: 6.8535e-05 - auc: 0.5570 - val_loss: 0.5033 - val_tp: 156.0000 - val_fp: 774.0000 - val_tn: 23433618.0000 - val_fn: 2314292.7500 - val_accuracy: 0.9101 - val_precision: 0.1677 - val_recall: 6.7405e-05 - val_auc: 0.5570\n",
      "Epoch 22/100\n",
      "985539/985539 [==============================] - 73s 75us/step - loss: 0.2498 - tp: 190.2158 - fp: 830.2137 - tn: 29596252.0000 - fn: 2927175.0000 - accuracy: 0.9100 - precision: 0.1864 - recall: 6.4975e-05 - auc: 0.5559 - val_loss: 0.5058 - val_tp: 194.0000 - val_fp: 836.0000 - val_tn: 30157430.0000 - val_fn: 2981845.5000 - val_accuracy: 0.9100 - val_precision: 0.1883 - val_recall: 6.5057e-05 - val_auc: 0.5560\n",
      "Epoch 28/100\n",
      "985539/985539 [==============================] - 73s 74us/step - loss: 0.2498 - tp: 262.8568 - fp: 917.9253 - tn: 36319992.0000 - fn: 3594699.0000 - accuracy: 0.9099 - precision: 0.2226 - recall: 7.3110e-05 - auc: 0.5561 - val_loss: 0.5101 - val_tp: 269.0000 - val_fp: 926.0000 - val_tn: 36881184.0000 - val_fn: 3649361.2500 - val_accuracy: 0.9099 - val_precision: 0.2251 - val_recall: 7.3707e-05 - val_auc: 0.5558\n",
      "Epoch 34/100\n",
      "974848/985539 [============================>.] - ETA: 0s - loss: 0.2498 - tp: 284.4979 - fp: 945.0798 - tn: 37434836.0000 - fn: 3705592.0000 - accuracy: 0.9099 - precision: 0.2314 - recall: 7.6765e-05 - auc: 0.5557"
     ]
    }
   ],
   "source": [
    "model_baseline = keras.Sequential()\n",
    "model_baseline.add(keras.layers.Dense(512,activation='relu',input_shape=(n_features,)))\n",
    "model_baseline.add(keras.layers.Dropout(0.5))\n",
    "model_baseline.add(keras.layers.Dense(512,activation='relu'))\n",
    "model_baseline.add(keras.layers.Dropout(0.5))\n",
    "model_baseline.add(keras.layers.Dense(512,activation='relu'))\n",
    "model_baseline.add(keras.layers.Dropout(0.5))\n",
    "model_baseline.add(keras.layers.Dense(1,activation='sigmoid'))\n",
    "print('Built NN...')\n",
    "model_baseline.compile(optimizer=keras.optimizers.Adam(lr=1e-3),loss=keras.losses.BinaryCrossentropy(),metrics=METRICS)\n",
    "model_baseline.summary()\n",
    "print('Compiled NN...')\n",
    "\n",
    "baseline_history = model_baseline.fit(X_train,\n",
    "                             y_train,\n",
    "                             batch_size=BATCH_SIZE,\n",
    "                             epochs=EPOCHS,\n",
    "                             callbacks = [early_stopping],\n",
    "                             validation_split=0.2\n",
    "                             )\n",
    "initial_weights = os.path.join(tempfile.mkdtemp(),'initial_weights')\n",
    "model_baseline.save_weights(initial_weights)"
   ]
  },
  {
   "cell_type": "code",
   "execution_count": 11,
   "metadata": {
    "collapsed": false,
    "pycharm": {
     "is_executing": false,
     "name": "#%%\n"
    }
   },
   "outputs": [
    {
     "data": {
      "image/png": "[encoded data removed]",
      "text/plain": [
       "<Figure size 432x288 with 4 Axes>"
      ]
     },
     "metadata": {
      "needs_background": "light"
     },
     "output_type": "display_data"
    }
   ],
   "source": [
    "plot_metrics(baseline_history)\n",
    "plt.show()"
   ]
  },
  {
   "cell_type": "code",
   "execution_count": 12,
   "metadata": {
    "collapsed": false,
    "pycharm": {
     "is_executing": false,
     "name": "#%%\n"
    }
   },
   "outputs": [],
   "source": [
    "train_predictions_baseline = model_baseline.predict(X_train, batch_size=BATCH_SIZE)\n",
    "test_predictions_baseline = model_baseline.predict(X_test, batch_size=BATCH_SIZE)"
   ]
  },
  {
   "cell_type": "code",
   "execution_count": 13,
   "metadata": {
    "collapsed": false,
    "pycharm": {
     "is_executing": false,
     "name": "#%%\n"
    }
   },
   "outputs": [
    {
     "name": "stdout",
     "output_type": "stream",
     "text": [
      "loss :  0.08796841546063944\n",
      "tp :  356.0\n",
      "fp :  1072.0\n",
      "tn :  43858620.0\n",
      "fn :  4340394.0\n",
      "accuracy :  0.9099222421646118\n",
      "precision :  0.24929963052272797\n",
      "recall :  8.201343734981492e-05\n",
      "auc :  0.5557264685630798\n",
      "\n"
     ]
    }
   ],
   "source": [
    "baseline_results = model_baseline.evaluate(X_test, y_test,\n",
    "                                  batch_size=BATCH_SIZE, verbose=0)\n",
    "for name, value in zip(model_baseline.metrics_names, baseline_results):\n",
    "    print(name, ': ', value)\n",
    "print()"
   ]
  },
  {
   "cell_type": "code",
   "execution_count": 14,
   "metadata": {
    "collapsed": false,
    "pycharm": {
     "is_executing": false,
     "name": "#%%\n"
    }
   },
   "outputs": [
    {
     "name": "stdout",
     "output_type": "stream",
     "text": [
      "Legitimate Transactions Detected (True Negatives):  306186\n",
      "Legitimate Transactions Incorrectly Detected (False Positives):  0\n",
      "Fraudulent Transactions Missed (False Negatives):  1766\n",
      "Fraudulent Transactions Detected (True Positives):  0\n",
      "Total Fraudulent Transactions:  1766\n"
     ]
    },
    {
     "data": {
      "image/png": "[encoded data removed]",
      "text/plain": [
       "<Figure size 360x360 with 2 Axes>"
      ]
     },
     "metadata": {
      "needs_background": "light"
     },
     "output_type": "display_data"
    }
   ],
   "source": [
    "plot_cm(y_test, test_predictions_baseline)"
   ]
  },
  {
   "cell_type": "code",
   "execution_count": 15,
   "metadata": {
    "collapsed": false,
    "pycharm": {
     "is_executing": false,
     "name": "#%% Weights\n"
    }
   },
   "outputs": [
    {
     "name": "stdout",
     "output_type": "stream",
     "text": [
      "Weight for class 0: 0.54\n",
      "Weight for class 1: 6.81\n",
      "Built NN...\n",
      "Model: \"sequential_2\"\n",
      "_________________________________________________________________\n",
      "Layer (type)                 Output Shape              Param #   \n",
      "=================================================================\n",
      "dense_5 (Dense)              (None, 512)               6656      \n",
      "_________________________________________________________________\n",
      "dropout_4 (Dropout)          (None, 512)               0         \n",
      "_________________________________________________________________\n",
      "dense_6 (Dense)              (None, 512)               262656    \n",
      "_________________________________________________________________\n",
      "dropout_5 (Dropout)          (None, 512)               0         \n",
      "_________________________________________________________________\n",
      "dense_7 (Dense)              (None, 512)               262656    \n",
      "_________________________________________________________________\n",
      "dropout_6 (Dropout)          (None, 512)               0         \n",
      "_________________________________________________________________\n",
      "dense_8 (Dense)              (None, 1)                 513       \n",
      "=================================================================\n",
      "Total params: 532,481\n",
      "Trainable params: 532,481\n",
      "Non-trainable params: 0\n",
      "_________________________________________________________________\n",
      "Compiled NN...\n",
      "Train on 985539 samples, validate on 246385 samples\n",
      "Epoch 1/100\n",
      "985539/985539 [==============================] - 78s 79us/step - loss: 0.6947 - tp: 9053.8613 - fp: 96115.1562 - tn: 44375512.0000 - fn: 4366565.5000 - accuracy: 0.9086 - precision: 0.1052 - recall: 0.0021 - auc: 0.5535 - val_loss: 1.1282 - val_tp: 22704.3301 - val_fp: 220964.8438 - val_tn: 44811900.0000 - val_fn: 4407545.5000 - val_accuracy: 0.9064 - val_precision: 0.0930 - val_recall: 0.0051 - val_auc: 0.5523\n",
      "Epoch 2/100\n",
      "985539/985539 [==============================] - 82s 83us/step - loss: 0.6654 - tp: 37469.8164 - fp: 342204.8750 - tn: 45249948.0000 - fn: 4449552.0000 - accuracy: 0.9043 - precision: 0.0991 - recall: 0.0083 - auc: 0.5514 - val_loss: 1.1404 - val_tp: 50701.9414 - val_fp: 459026.3750 - val_tn: 45694468.0000 - val_fn: 4490812.5000 - val_accuracy: 0.9024 - val_precision: 0.0994 - val_recall: 0.0112 - val_auc: 0.5503\n",
      "Epoch 3/100\n",
      "985539/985539 [==============================] - 80s 81us/step - loss: 0.6645 - tp: 64899.9609 - fp: 570828.6875 - tn: 46142164.0000 - fn: 4533166.0000 - accuracy: 0.9005 - precision: 0.1022 - recall: 0.0141 - auc: 0.5494 - val_loss: 1.1191 - val_tp: 81848.0312 - val_fp: 703795.1875 - val_tn: 46570340.0000 - val_fn: 4570931.5000 - val_accuracy: 0.8984 - val_precision: 0.1041 - val_recall: 0.0176 - val_auc: 0.5485\n",
      "Epoch 4/100\n",
      "985539/985539 [==============================] - 76s 77us/step - loss: 0.6642 - tp: 100933.4219 - fp: 837579.5625 - tn: 46995868.0000 - fn: 4608613.0000 - accuracy: 0.8963 - precision: 0.1076 - recall: 0.0214 - auc: 0.5478 - val_loss: 1.1631 - val_tp: 113947.4531 - val_fp: 950552.7500 - val_tn: 47444208.0000 - val_fn: 4650094.5000 - val_accuracy: 0.8946 - val_precision: 0.1070 - val_recall: 0.0239 - val_auc: 0.5468\n",
      "Epoch 5/100\n",
      "985539/985539 [==============================] - 77s 78us/step - loss: 0.6637 - tp: 127455.9141 - fp: 1052346.8750 - tn: 47902064.0000 - fn: 4693000.0000 - accuracy: 0.8932 - precision: 0.1081 - recall: 0.0264 - auc: 0.5461 - val_loss: 1.1141 - val_tp: 144600.3594 - val_fp: 1185970.3750 - val_tn: 48329452.0000 - val_fn: 4730710.0000 - val_accuracy: 0.8912 - val_precision: 0.1087 - val_recall: 0.0297 - val_auc: 0.5453\n",
      "Epoch 6/100\n",
      "985539/985539 [==============================] - 75s 76us/step - loss: 0.6636 - tp: 163200.0312 - fp: 1312898.7500 - tn: 48761916.0000 - fn: 4768788.5000 - accuracy: 0.8894 - precision: 0.1106 - recall: 0.0331 - auc: 0.5447 - val_loss: 1.1231 - val_tp: 179823.6719 - val_fp: 1440727.3750 - val_tn: 49195348.0000 - val_fn: 4806748.0000 - val_accuracy: 0.8877 - val_precision: 0.1109 - val_recall: 0.0361 - val_auc: 0.5440\n",
      "Epoch 7/100\n",
      "985539/985539 [==============================] - 75s 76us/step - loss: 0.6633 - tp: 197801.1094 - fp: 1560186.3750 - tn: 49635288.0000 - fn: 4845445.5000 - accuracy: 0.8861 - precision: 0.1125 - recall: 0.0392 - auc: 0.5435 - val_loss: 1.1248 - val_tp: 210504.5000 - val_fp: 1668233.8750 - val_tn: 50088528.0000 - val_fn: 4887336.0000 - val_accuracy: 0.8847 - val_precision: 0.1120 - val_recall: 0.0413 - val_auc: 0.5428\n",
      "Epoch 8/100\n",
      "985539/985539 [==============================] - 75s 76us/step - loss: 0.6637 - tp: 224390.6250 - fp: 1774052.0000 - tn: 50542084.0000 - fn: 4930142.5000 - accuracy: 0.8833 - precision: 0.1123 - recall: 0.0435 - auc: 0.5423 - val_loss: 1.1262 - val_tp: 240316.3281 - val_fp: 1892015.5000 - val_tn: 50985432.0000 - val_fn: 4968787.5000 - val_accuracy: 0.8819 - val_precision: 0.1127 - val_recall: 0.0461 - val_auc: 0.5416\n",
      "Epoch 9/100\n",
      "985539/985539 [==============================] - 70s 71us/step - loss: 0.6634 - tp: 257997.7812 - fp: 2008135.1250 - tn: 51428756.0000 - fn: 5007710.0000 - accuracy: 0.8805 - precision: 0.1139 - recall: 0.0490 - auc: 0.5412 - val_loss: 1.1234 - val_tp: 274321.3125 - val_fp: 2131463.7500 - val_tn: 51866632.0000 - val_fn: 5046049.5000 - val_accuracy: 0.8790 - val_precision: 0.1140 - val_recall: 0.0516 - val_auc: 0.5406\n",
      "Epoch 10/100\n",
      "985539/985539 [==============================] - 75s 76us/step - loss: 0.6634 - tp: 291649.9375 - fp: 2243548.7500 - tn: 52313912.0000 - fn: 5085375.0000 - accuracy: 0.8777 - precision: 0.1151 - recall: 0.0542 - auc: 0.5402 - val_loss: 1.0896 - val_tp: 307441.5938 - val_fp: 2360086.5000 - val_tn: 52758656.0000 - val_fn: 5124192.5000 - val_accuracy: 0.8764 - val_precision: 0.1152 - val_recall: 0.0566 - val_auc: 0.5397\n",
      "Epoch 11/100\n",
      "985539/985539 [==============================] - 50s 51us/step - loss: 0.6633 - tp: 325027.6250 - fp: 2473735.5000 - tn: 53204468.0000 - fn: 5163229.0000 - accuracy: 0.8751 - precision: 0.1161 - recall: 0.0592 - auc: 0.5395 - val_loss: 1.0963 - val_tp: 341277.2812 - val_fp: 2595646.0000 - val_tn: 53643804.0000 - val_fn: 5201624.0000 - val_accuracy: 0.8738 - val_precision: 0.1162 - val_recall: 0.0616 - val_auc: 0.5390\n",
      "Restoring model weights from the end of the best epoch.\n",
      "Epoch 00011: early stopping\n"
     ]
    }
   ],
   "source": [
    "print('Weight for class 0: {:.2f}'.format(weight_for_0))\n",
    "print('Weight for class 1: {:.2f}'.format(weight_for_1))\n",
    "model_weighted = keras.Sequential()\n",
    "model_weighted.add(keras.layers.Dense(512,activation='relu',input_shape=(n_features,)))\n",
    "model_weighted.add(keras.layers.Dropout(0.5))\n",
    "model_weighted.add(keras.layers.Dense(512,activation='relu'))\n",
    "model_weighted.add(keras.layers.Dropout(0.5))\n",
    "model_weighted.add(keras.layers.Dense(512,activation='relu'))\n",
    "model_weighted.add(keras.layers.Dropout(0.5))\n",
    "model_weighted.add(keras.layers.Dense(1,activation='sigmoid'))\n",
    "print('Built NN...')\n",
    "model_weighted.compile(optimizer=keras.optimizers.Adam(lr=1e-3),loss=keras.losses.BinaryCrossentropy(),metrics=METRICS)\n",
    "model_weighted.summary()\n",
    "print('Compiled NN...')\n",
    "\n",
    "model_weighted.load_weights(initial_weights)\n",
    "weighted_history = model_weighted.fit(X_train,\n",
    "                                      y_train,\n",
    "                                      batch_size=BATCH_SIZE,\n",
    "                                      epochs=EPOCHS,\n",
    "                                      callbacks = [early_stopping],\n",
    "                                      validation_split=0.2, # The class weights go here\n",
    "                                      class_weight=class_weight) "
   ]
  },
  {
   "cell_type": "code",
   "execution_count": 16,
   "metadata": {
    "collapsed": false,
    "pycharm": {
     "is_executing": false,
     "name": "#%%\n"
    }
   },
   "outputs": [
    {
     "data": {
      "image/png": "[encoded data removed]",
      "text/plain": [
       "<Figure size 432x288 with 4 Axes>"
      ]
     },
     "metadata": {
      "needs_background": "light"
     },
     "output_type": "display_data"
    }
   ],
   "source": [
    "plot_metrics(weighted_history)\n",
    "plt.show()"
   ]
  },
  {
   "cell_type": "code",
   "execution_count": 17,
   "metadata": {
    "collapsed": false,
    "pycharm": {
     "is_executing": false,
     "name": "#%%\n"
    }
   },
   "outputs": [],
   "source": [
    "train_predictions_weighted = model_weighted.predict(X_train, batch_size=BATCH_SIZE)\n",
    "test_predictions_weighted = model_weighted.predict(X_test, batch_size=BATCH_SIZE)"
   ]
  },
  {
   "cell_type": "code",
   "execution_count": 18,
   "metadata": {
    "collapsed": false,
    "pycharm": {
     "is_executing": false,
     "name": "#%%\n"
    }
   },
   "outputs": [
    {
     "name": "stdout",
     "output_type": "stream",
     "text": [
      "loss :  0.6329663509813948\n",
      "tp :  349662.71875\n",
      "fp :  2624615.75\n",
      "tn :  53868388.0\n",
      "fn :  5216767.0\n",
      "accuracy :  0.8736435770988464\n",
      "precision :  0.11756245046854019\n",
      "recall :  0.06281638145446777\n",
      "auc :  0.5388838052749634\n",
      "\n",
      "Legitimate Transactions Detected (True Negatives):  294224\n",
      "Legitimate Transactions Incorrectly Detected (False Positives):  11962\n",
      "Fraudulent Transactions Missed (False Negatives):  1736\n",
      "Fraudulent Transactions Detected (True Positives):  30\n",
      "Total Fraudulent Transactions:  1766\n"
     ]
    },
    {
     "data": {
      "image/png": "[encoded data removed]",
      "text/plain": [
       "<Figure size 360x360 with 2 Axes>"
      ]
     },
     "metadata": {
      "needs_background": "light"
     },
     "output_type": "display_data"
    }
   ],
   "source": [
    "weighted_results = model_weighted.evaluate(X_test, y_test,\n",
    "                                           batch_size=BATCH_SIZE, verbose=0)\n",
    "for name, value in zip(model_weighted.metrics_names, weighted_results):\n",
    "  print(name, ': ', value)\n",
    "print()\n",
    "\n",
    "plot_cm(y_test, test_predictions_weighted)"
   ]
  },
  {
   "cell_type": "code",
   "execution_count": 19,
   "metadata": {
    "collapsed": false,
    "pycharm": {
     "is_executing": true,
     "name": "#%% Resampled\n"
    }
   },
   "outputs": [
    {
     "name": "stdout",
     "output_type": "stream",
     "text": [
      "Built NN...\n",
      "Model: \"sequential_3\"\n",
      "_________________________________________________________________\n",
      "Layer (type)                 Output Shape              Param #   \n",
      "=================================================================\n",
      "dense_9 (Dense)              (None, 512)               6656      \n",
      "_________________________________________________________________\n",
      "dropout_7 (Dropout)          (None, 512)               0         \n",
      "_________________________________________________________________\n",
      "dense_10 (Dense)             (None, 512)               262656    \n",
      "_________________________________________________________________\n",
      "dropout_8 (Dropout)          (None, 512)               0         \n",
      "_________________________________________________________________\n",
      "dense_11 (Dense)             (None, 512)               262656    \n",
      "_________________________________________________________________\n",
      "dropout_9 (Dropout)          (None, 512)               0         \n",
      "_________________________________________________________________\n",
      "dense_12 (Dense)             (None, 1)                 513       \n",
      "=================================================================\n",
      "Total params: 532,481\n",
      "Trainable params: 532,481\n",
      "Non-trainable params: 0\n",
      "_________________________________________________________________\n",
      "Compiled NN...\n",
      "Train on 1793054 samples, validate on 448264 samples\n",
      "Epoch 1/100\n",
      "1793054/1793054 [==============================] - 71s 40us/step - loss: 0.6481 - tp: 389693.2188 - fp: 2660786.7500 - tn: 54545492.0000 - fn: 5513817.0000 - accuracy: 0.8705 - precision: 0.1277 - recall: 0.0659 - auc: 0.5501 - val_loss: 0.9645 - val_tp: 462696.4062 - val_fp: 2691305.7500 - val_tn: 55074456.0000 - val_fn: 6001757.5000 - val_accuracy: 0.8647 - val_precision: 0.1467 - val_recall: 0.0716 - val_auc: 0.5697\n",
      "Epoch 2/100\n",
      "1793054/1793054 [==============================] - 70s 39us/step - loss: 0.6468 - tp: 536245.1875 - fp: 2722230.2500 - tn: 55604700.0000 - fn: 6487987.5000 - accuracy: 0.8591 - precision: 0.1645 - recall: 0.0763 - auc: 0.5857 - val_loss: 0.9697 - val_tp: 610248.5000 - val_fp: 2753153.5000 - val_tn: 56133280.0000 - val_fn: 6974867.5000 - val_accuracy: 0.8537 - val_precision: 0.1814 - val_recall: 0.0804 - val_auc: 0.5991\n",
      "Epoch 3/100\n",
      "1793054/1793054 [==============================] - 70s 39us/step - loss: 0.6468 - tp: 683854.0000 - fp: 2783764.2500 - tn: 56663768.0000 - fn: 7461112.0000 - accuracy: 0.8484 - precision: 0.1972 - recall: 0.0839 - auc: 0.6103 - val_loss: 0.9493 - val_tp: 758074.7500 - val_fp: 2814555.7500 - val_tn: 57192452.0000 - val_fn: 7947699.5000 - val_accuracy: 0.8434 - val_precision: 0.2122 - val_recall: 0.0871 - val_auc: 0.6200\n",
      "Epoch 4/100\n",
      "1793054/1793054 [==============================] - 73s 41us/step - loss: 0.6468 - tp: 832408.5625 - fp: 2845647.0000 - tn: 57722440.0000 - fn: 8433335.0000 - accuracy: 0.8385 - precision: 0.2263 - recall: 0.0898 - auc: 0.6282 - val_loss: 0.9607 - val_tp: 906562.3125 - val_fp: 2876614.7500 - val_tn: 58251184.0000 - val_fn: 8919869.0000 - val_accuracy: 0.8337 - val_precision: 0.2396 - val_recall: 0.0923 - val_auc: 0.6354\n",
      "Epoch 5/100\n",
      "1793054/1793054 [==============================] - 71s 40us/step - loss: 0.6468 - tp: 980631.7500 - fp: 2907622.5000 - tn: 58781108.0000 - fn: 9405765.0000 - accuracy: 0.8292 - precision: 0.2522 - recall: 0.0944 - auc: 0.6415 - val_loss: 0.9524 - val_tp: 1054574.3750 - val_fp: 2938469.5000 - val_tn: 59309996.0000 - val_fn: 9892517.0000 - val_accuracy: 0.8247 - val_precision: 0.2641 - val_recall: 0.0963 - val_auc: 0.6469\n",
      "Epoch 6/100\n",
      "1793054/1793054 [==============================] - 70s 39us/step - loss: 0.6469 - tp: 1128546.8750 - fp: 2969574.2500 - tn: 59840172.0000 - fn: 10378184.0000 - accuracy: 0.8204 - precision: 0.2753 - recall: 0.0981 - auc: 0.6516 - val_loss: 0.9846 - val_tp: 1202315.6250 - val_fp: 3000216.5000 - val_tn: 60368888.0000 - val_fn: 10865433.0000 - val_accuracy: 0.8162 - val_precision: 0.2861 - val_recall: 0.0996 - val_auc: 0.6555\n",
      "Epoch 7/100\n",
      "1793054/1793054 [==============================] - 76s 43us/step - loss: 0.6468 - tp: 1276172.6250 - fp: 3031150.7500 - tn: 60899184.0000 - fn: 11351346.0000 - accuracy: 0.8121 - precision: 0.2963 - recall: 0.1011 - auc: 0.6588 - val_loss: 0.9675 - val_tp: 1350063.8750 - val_fp: 3061913.2500 - val_tn: 61427732.0000 - val_fn: 11838346.0000 - val_accuracy: 0.8082 - val_precision: 0.3060 - val_recall: 0.1024 - val_auc: 0.6619\n",
      "Epoch 8/100\n",
      "1793054/1793054 [==============================] - 70s 39us/step - loss: 0.6469 - tp: 1423497.8750 - fp: 3092394.2500 - tn: 61958420.0000 - fn: 12324856.0000 - accuracy: 0.8044 - precision: 0.3152 - recall: 0.1035 - auc: 0.6645 - val_loss: 0.9699 - val_tp: 1496623.0000 - val_fp: 3122536.5000 - val_tn: 62487808.0000 - val_fn: 12812449.0000 - val_accuracy: 0.8006 - val_precision: 0.3240 - val_recall: 0.1046 - val_auc: 0.6668\n",
      "Epoch 9/100\n",
      "1793054/1793054 [==============================] - 72s 40us/step - loss: 0.6469 - tp: 1569315.2500 - fp: 3152472.2500 - tn: 63019184.0000 - fn: 13299500.0000 - accuracy: 0.7970 - precision: 0.3323 - recall: 0.1055 - auc: 0.6688 - val_loss: 0.9507 - val_tp: 1641650.1250 - val_fp: 3181993.0000 - val_tn: 63549140.0000 - val_fn: 13788081.0000 - val_accuracy: 0.7935 - val_precision: 0.3403 - val_recall: 0.1064 - val_auc: 0.6707\n",
      "Epoch 10/100\n",
      "1793054/1793054 [==============================] - 74s 41us/step - loss: 0.6468 - tp: 1714409.6250 - fp: 3211820.5000 - tn: 64080500.0000 - fn: 14275067.0000 - accuracy: 0.7900 - precision: 0.3480 - recall: 0.1072 - auc: 0.6724 - val_loss: 0.9523 - val_tp: 1787322.5000 - val_fp: 3241792.2500 - val_tn: 64610052.0000 - val_fn: 14763064.0000 - val_accuracy: 0.7867 - val_precision: 0.3554 - val_recall: 0.1080 - val_auc: 0.6738\n",
      "Epoch 11/100\n",
      "1793054/1793054 [==============================] - 73s 41us/step - loss: 0.6467 - tp: 1860490.3750 - fp: 3272148.5000 - tn: 65140936.0000 - fn: 15249594.0000 - accuracy: 0.7834 - precision: 0.3625 - recall: 0.1087 - auc: 0.6751 - val_loss: 0.9543 - val_tp: 1933627.5000 - val_fp: 3302167.7500 - val_tn: 65670164.0000 - val_fn: 15737418.0000 - val_accuracy: 0.7803 - val_precision: 0.3693 - val_recall: 0.1094 - val_auc: 0.6762\n",
      "Epoch 12/100\n",
      "1793054/1793054 [==============================] - 267s 149us/step - loss: 0.6462 - tp: 3933446.5000 - fp: 4139571.2500 - tn: 79962544.0000 - fn: 28865978.0000 - accuracy: 0.7177 - precision: 0.4872 - recall: 0.1199 - auc: 0.6793 - val_loss: 0.9606 - val_tp: 4007826.0000 - val_fp: 4170747.5000 - val_tn: 80490752.0000 - val_fn: 29352270.0000 - val_accuracy: 0.7160 - val_precision: 0.4900 - val_recall: 0.1201 - val_auc: 0.6790\n",
      "Epoch 26/100\n",
      "1793054/1793054 [==============================] - 264s 147us/step - loss: 0.6464 - tp: 4082009.2500 - fp: 4202135.5000 - tn: 81021040.0000 - fn: 29837712.0000 - accuracy: 0.7143 - precision: 0.4927 - recall: 0.1203 - auc: 0.6787 - val_loss: 0.9564 - val_tp: 4156315.7500 - val_fp: 4233362.5000 - val_tn: 81549248.0000 - val_fn: 30324506.0000 - val_accuracy: 0.7126 - val_precision: 0.4954 - val_recall: 0.1205 - val_auc: 0.6784\n",
      "Epoch 27/100\n",
      "1793054/1793054 [==============================] - 265s 148us/step - loss: 0.6464 - tp: 4230783.0000 - fp: 4264961.0000 - tn: 82078712.0000 - fn: 30809880.0000 - accuracy: 0.7110 - precision: 0.4980 - recall: 0.1207 - auc: 0.6780 - val_loss: 0.9489 - val_tp: 4305802.0000 - val_fp: 4296430.0000 - val_tn: 82606856.0000 - val_fn: 31295672.0000 - val_accuracy: 0.7095 - val_precision: 0.5005 - val_recall: 0.1209 - val_auc: 0.6778\n",
      "Restoring model weights from the end of the best epoch.\n",
      "Epoch 00027: early stopping\n"
     ]
    }
   ],
   "source": [
    "resampled_model = keras.Sequential()\n",
    "resampled_model.add(keras.layers.Dense(512,activation='relu',input_shape=(n_features,)))\n",
    "resampled_model.add(keras.layers.Dropout(0.5))\n",
    "resampled_model.add(keras.layers.Dense(512,activation='relu'))\n",
    "resampled_model.add(keras.layers.Dropout(0.5))\n",
    "resampled_model.add(keras.layers.Dense(512,activation='relu'))\n",
    "resampled_model.add(keras.layers.Dropout(0.5))\n",
    "resampled_model.add(keras.layers.Dense(1,activation='sigmoid'))\n",
    "print('Built NN...')\n",
    "resampled_model.compile(optimizer=keras.optimizers.Adam(lr=1e-3),loss=keras.losses.BinaryCrossentropy(),metrics=METRICS)\n",
    "resampled_model.summary()\n",
    "print('Compiled NN...')\n",
    "\n",
    "resampled_model.load_weights(initial_weights)\n",
    "output_layer = resampled_model.layers[-1] \n",
    "output_layer.bias.assign([0])\n",
    "\n",
    "resampled_history = resampled_model.fit(X_train_smote,\n",
    "                                        y_train_smote,\n",
    "                                        batch_size=BATCH_SIZE,\n",
    "                                        epochs=EPOCHS,\n",
    "                                        callbacks = [early_stopping],\n",
    "                                        validation_split=0.2\n",
    "                                        )"
   ]
  },
  {
   "cell_type": "code",
   "execution_count": 20,
   "metadata": {
    "collapsed": false,
    "pycharm": {
     "is_executing": true,
     "name": "#%% USING test_smote\n"
    }
   },
   "outputs": [
    {
     "data": {
      "image/png": "[encoded data removed]",
      "text/plain": [
       "<Figure size 432x288 with 4 Axes>"
      ]
     },
     "metadata": {
      "needs_background": "light"
     },
     "output_type": "display_data"
    }
   ],
   "source": [
    "plot_metrics(resampled_history)\n",
    "plt.show()"
   ]
  },
  {
   "cell_type": "code",
   "execution_count": 21,
   "metadata": {
    "collapsed": false,
    "pycharm": {
     "is_executing": true,
     "name": "#%%\n"
    }
   },
   "outputs": [],
   "source": [
    "train_predictions_resampled = resampled_model.predict(X_train_smote, batch_size=BATCH_SIZE)\n",
    "test_predictions_resampled = resampled_model.predict(X_test_smote, batch_size=BATCH_SIZE)"
   ]
  },
  {
   "cell_type": "code",
   "execution_count": 22,
   "metadata": {
    "collapsed": false,
    "pycharm": {
     "is_executing": true,
     "name": "#%%\n"
    }
   },
   "outputs": [
    {
     "name": "stdout",
     "output_type": "stream",
     "text": [
      "612372/612372 [==============================] - 19s 31us/step\n"
     ]
    }
   ],
   "source": [
    "resampled_results = resampled_model.evaluate(X_test_smote,\n",
    "                                             y_test_smote,\n",
    "                                             batch_size=BATCH_SIZE, \n",
    "                                             verbose=1)"
   ]
  },
  {
   "cell_type": "code",
   "execution_count": 23,
   "metadata": {
    "collapsed": false,
    "pycharm": {
     "is_executing": true,
     "name": "#%%\n"
    }
   },
   "outputs": [
    {
     "name": "stdout",
     "output_type": "stream",
     "text": [
      "loss :  0.757897634047681\n",
      "tp :  4337774.0\n",
      "fp :  4305053.5\n",
      "tn :  82827512.0\n",
      "fn :  31565186.0\n",
      "accuracy :  0.708449125289917\n",
      "precision :  0.5018929839134216\n",
      "recall :  0.12082011997699738\n",
      "auc :  0.6777659058570862\n",
      "\n",
      "Legitimate Transactions Detected (True Negatives):  293177\n",
      "Legitimate Transactions Incorrectly Detected (False Positives):  13009\n",
      "Fraudulent Transactions Missed (False Negatives):  301123\n",
      "Fraudulent Transactions Detected (True Positives):  5063\n",
      "Total Fraudulent Transactions:  306186\n"
     ]
    },
    {
     "data": {
      "image/png": "[encoded data removed]",
      "text/plain": [
       "<Figure size 360x360 with 2 Axes>"
      ]
     },
     "metadata": {
      "needs_background": "light"
     },
     "output_type": "display_data"
    }
   ],
   "source": [
    "for name, value in zip(resampled_model.metrics_names, resampled_results):\n",
    "  print(name, ': ', value)\n",
    "print()\n",
    "\n",
    "plot_cm(y_test_smote, test_predictions_resampled)"
   ]
  },
  {
   "cell_type": "code",
   "execution_count": 24,
   "metadata": {
    "collapsed": false,
    "pycharm": {
     "is_executing": true,
     "name": "#%%Using test (without smote)\n"
    }
   },
   "outputs": [],
   "source": [
    "train_predictions_resampled_noSmote = resampled_model.predict(X_train, batch_size=BATCH_SIZE)\n",
    "test_predictions_resampled_noSmote = resampled_model.predict(X_test, batch_size=BATCH_SIZE)"
   ]
  },
  {
   "cell_type": "code",
   "execution_count": 25,
   "metadata": {
    "collapsed": false,
    "pycharm": {
     "is_executing": true,
     "name": "#%%\n"
    }
   },
   "outputs": [
    {
     "name": "stdout",
     "output_type": "stream",
     "text": [
      "307952/307952 [==============================] - 9s 29us/step\n"
     ]
    }
   ],
   "source": [
    "resampled_results_noSmote = resampled_model.evaluate(X_test,\n",
    "                                             y_test,\n",
    "                                             batch_size=BATCH_SIZE, \n",
    "                                             verbose=1)"
   ]
  },
  {
   "cell_type": "code",
   "execution_count": 26,
   "metadata": {
    "collapsed": false,
    "pycharm": {
     "is_executing": true,
     "name": "#%%\n"
    }
   },
   "outputs": [
    {
     "name": "stdout",
     "output_type": "stream",
     "text": [
      "loss :  0.45514622848610037\n",
      "tp :  4341551.0\n",
      "fp :  4313755.0\n",
      "tn :  83049760.0\n",
      "fn :  31790520.0\n",
      "accuracy :  0.7076388001441956\n",
      "precision :  0.5016060471534729\n",
      "recall :  0.12015800178050995\n",
      "auc :  0.6772697567939758\n",
      "\n",
      "Legitimate Transactions Detected (True Negatives):  293177\n",
      "Legitimate Transactions Incorrectly Detected (False Positives):  13009\n",
      "Fraudulent Transactions Missed (False Negatives):  1736\n",
      "Fraudulent Transactions Detected (True Positives):  30\n",
      "Total Fraudulent Transactions:  1766\n"
     ]
    },
    {
     "data": {
      "image/png": "[encoded data removed]",
      "text/plain": [
       "<Figure size 360x360 with 2 Axes>"
      ]
     },
     "metadata": {
      "needs_background": "light"
     },
     "output_type": "display_data"
    }
   ],
   "source": [
    "for name, value in zip(resampled_model.metrics_names, resampled_results_noSmote):\n",
    "  print(name, ': ', value)\n",
    "print()\n",
    "\n",
    "plot_cm(y_test, test_predictions_resampled_noSmote)"
   ]
  },
  {
   "cell_type": "code",
   "execution_count": 27,
   "metadata": {
    "collapsed": false,
    "pycharm": {
     "is_executing": true,
     "name": "#%%\n"
    }
   },
   "outputs": [
    {
     "data": {
      "text/plain": [
       "<matplotlib.legend.Legend at 0x1d8870632c8>"
      ]
     },
     "execution_count": 27,
     "metadata": {},
     "output_type": "execute_result"
    },
    {
     "data": {
      "image/png": "[encoded data removed]",
      "text/plain": [
       "<Figure size 432x288 with 1 Axes>"
      ]
     },
     "metadata": {
      "needs_background": "light"
     },
     "output_type": "display_data"
    }
   ],
   "source": [
    "plot_roc(\"Train Baseline\", y_train, train_predictions_baseline, color=colors[0])\n",
    "plot_roc(\"Test Baseline\", y_test, test_predictions_baseline, color=colors[0], linestyle='--')\n",
    "\n",
    "plot_roc(\"Train Weighted\", y_train, train_predictions_weighted, color=colors[1])\n",
    "plot_roc(\"Test Weighted\", y_test, test_predictions_weighted, color=colors[1], linestyle='--')\n",
    "\n",
    "plot_roc(\"Train Resampled Smote\", y_train_smote, train_predictions_resampled,  color=colors[2])\n",
    "plot_roc(\"Test Resampled Smote\", y_test_smote, test_predictions_resampled,  color=colors[2], linestyle='--')\n",
    "\n",
    "plot_roc(\"Train Resampled\", y_train, train_predictions_resampled_noSmote,  color=colors[3])\n",
    "plot_roc(\"Test Resampled\", y_test, test_predictions_resampled_noSmote,  color=colors[3], linestyle='--')\n",
    "plt.legend(loc='lower right')\n"
   ]
  }
 ],
 "metadata": {
  "kernelspec": {
   "display_name": "Python 3",
   "language": "python",
   "name": "python3"
  },
  "language_info": {
   "codemirror_mode": {
    "name": "ipython",
    "version": 3
   },
   "file_extension": ".py",
   "mimetype": "text/x-python",
   "name": "python",
   "nbconvert_exporter": "python",
   "pygments_lexer": "ipython3",
   "version": "3.7.5"
  },
  "pycharm": {
   "stem_cell": {
    "cell_type": "raw",
    "metadata": {
     "collapsed": false
    },
    "source": []
   }
  }
 },
 "nbformat": 4,
 "nbformat_minor": 1
}
